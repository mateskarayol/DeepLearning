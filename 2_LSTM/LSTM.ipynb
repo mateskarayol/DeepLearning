{
  "nbformat": 4,
  "nbformat_minor": 0,
  "metadata": {
    "colab": {
      "name": "LSTM.ipynb",
      "provenance": [],
      "collapsed_sections": []
    },
    "kernelspec": {
      "name": "python3",
      "display_name": "Python 3"
    },
    "accelerator": "GPU"
  },
  "cells": [
    {
      "cell_type": "markdown",
      "metadata": {
        "id": "6i8-NBIWKzcB",
        "colab_type": "text"
      },
      "source": [
        "LSTM "
      ]
    },
    {
      "cell_type": "markdown",
      "metadata": {
        "id": "YwlDxwI5QzyN",
        "colab_type": "text"
      },
      "source": [
        "References are stated in READ.me\n",
        " \n"
      ]
    },
    {
      "cell_type": "code",
      "metadata": {
        "id": "YBNpEJshDDp8",
        "colab_type": "code",
        "colab": {
          "base_uri": "https://localhost:8080/",
          "height": 50
        },
        "outputId": "bf370d9f-276e-4af6-c10a-8c49d90d0583"
      },
      "source": [
        "#--------------------------------------------------------\n",
        "# Imports\n",
        "#--------------------------------------------------------\n",
        "%tensorflow_version 1.x\n",
        "import tensorflow as tf\n",
        "\n",
        "from tensorflow.examples.tutorials.mnist import input_data\n",
        "from keras.models import Sequential, Model\n",
        "from keras.layers import Input,LSTM, Dense\n",
        "\n",
        "import numpy as numpy\n",
        "\n",
        "from sklearn.cluster import KMeans\n",
        "from sklearn.manifold import TSNE\n",
        "\n",
        "from keras.utils import np_utils\n",
        "import matplotlib.pyplot as plt\n",
        "%matplotlib inline\n"
      ],
      "execution_count": null,
      "outputs": [
        {
          "output_type": "stream",
          "text": [
            "TensorFlow 1.x selected.\n"
          ],
          "name": "stdout"
        },
        {
          "output_type": "stream",
          "text": [
            "Using TensorFlow backend.\n"
          ],
          "name": "stderr"
        }
      ]
    },
    {
      "cell_type": "code",
      "metadata": {
        "id": "iSM59oEzDOb9",
        "colab_type": "code",
        "colab": {
          "base_uri": "https://localhost:8080/",
          "height": 598
        },
        "outputId": "47bd0fb3-596d-4fc6-f0ed-2432a6387c54"
      },
      "source": [
        "#-------------------------------------------------------\n",
        "# Loading Data\n",
        "#-------------------------------------------------------\n",
        "\n",
        "mnist = input_data.read_data_sets(\"mnist\", one_hot=True)\n",
        "\n",
        "x_train = mnist.train.images\n",
        "y_train = mnist.train.labels\n",
        "\n",
        "x_test = mnist.test.images\n",
        "y_test = mnist.test.labels\n",
        "\n",
        "print(\"Shape of data\")\n",
        "print(\"X train : \" , x_train.shape)\n",
        "print(\"Y train : \" , y_train.shape)\n",
        "print(\"X test : \" , x_test.shape)\n",
        "print(\"Y test : \" , y_test.shape)\n"
      ],
      "execution_count": null,
      "outputs": [
        {
          "output_type": "stream",
          "text": [
            "WARNING:tensorflow:From <ipython-input-2-b8b06d3acaca>:5: read_data_sets (from tensorflow.contrib.learn.python.learn.datasets.mnist) is deprecated and will be removed in a future version.\n",
            "Instructions for updating:\n",
            "Please use alternatives such as official/mnist/dataset.py from tensorflow/models.\n",
            "WARNING:tensorflow:From /tensorflow-1.15.2/python3.6/tensorflow_core/contrib/learn/python/learn/datasets/mnist.py:260: maybe_download (from tensorflow.contrib.learn.python.learn.datasets.base) is deprecated and will be removed in a future version.\n",
            "Instructions for updating:\n",
            "Please write your own downloading logic.\n",
            "WARNING:tensorflow:From /tensorflow-1.15.2/python3.6/tensorflow_core/contrib/learn/python/learn/datasets/base.py:252: _internal_retry.<locals>.wrap.<locals>.wrapped_fn (from tensorflow.contrib.learn.python.learn.datasets.base) is deprecated and will be removed in a future version.\n",
            "Instructions for updating:\n",
            "Please use urllib or similar directly.\n",
            "Successfully downloaded train-images-idx3-ubyte.gz 9912422 bytes.\n",
            "WARNING:tensorflow:From /tensorflow-1.15.2/python3.6/tensorflow_core/contrib/learn/python/learn/datasets/mnist.py:262: extract_images (from tensorflow.contrib.learn.python.learn.datasets.mnist) is deprecated and will be removed in a future version.\n",
            "Instructions for updating:\n",
            "Please use tf.data to implement this functionality.\n",
            "Extracting mnist/train-images-idx3-ubyte.gz\n",
            "Successfully downloaded train-labels-idx1-ubyte.gz 28881 bytes.\n",
            "WARNING:tensorflow:From /tensorflow-1.15.2/python3.6/tensorflow_core/contrib/learn/python/learn/datasets/mnist.py:267: extract_labels (from tensorflow.contrib.learn.python.learn.datasets.mnist) is deprecated and will be removed in a future version.\n",
            "Instructions for updating:\n",
            "Please use tf.data to implement this functionality.\n",
            "Extracting mnist/train-labels-idx1-ubyte.gz\n",
            "WARNING:tensorflow:From /tensorflow-1.15.2/python3.6/tensorflow_core/contrib/learn/python/learn/datasets/mnist.py:110: dense_to_one_hot (from tensorflow.contrib.learn.python.learn.datasets.mnist) is deprecated and will be removed in a future version.\n",
            "Instructions for updating:\n",
            "Please use tf.one_hot on tensors.\n",
            "Successfully downloaded t10k-images-idx3-ubyte.gz 1648877 bytes.\n",
            "Extracting mnist/t10k-images-idx3-ubyte.gz\n",
            "Successfully downloaded t10k-labels-idx1-ubyte.gz 4542 bytes.\n",
            "Extracting mnist/t10k-labels-idx1-ubyte.gz\n",
            "WARNING:tensorflow:From /tensorflow-1.15.2/python3.6/tensorflow_core/contrib/learn/python/learn/datasets/mnist.py:290: DataSet.__init__ (from tensorflow.contrib.learn.python.learn.datasets.mnist) is deprecated and will be removed in a future version.\n",
            "Instructions for updating:\n",
            "Please use alternatives such as official/mnist/dataset.py from tensorflow/models.\n",
            "Shape of data\n",
            "X train :  (55000, 784)\n",
            "Y train :  (55000, 10)\n",
            "X test :  (10000, 784)\n",
            "Y test :  (10000, 10)\n"
          ],
          "name": "stdout"
        }
      ]
    },
    {
      "cell_type": "code",
      "metadata": {
        "id": "53i79doEGrQZ",
        "colab_type": "code",
        "colab": {}
      },
      "source": [
        "#-------------------------------------------------------\n",
        "# Define parameters\n",
        "#-------------------------------------------------------\n",
        "\n",
        "time_steps = 28           # Timesteps value in timeseries data\n",
        "n_hiddenunits = 128       # Hidden units in LSTM layer\n",
        "n_inputs  = 28            # rows of 28 pixels (an mnist img is 28x28)\n",
        "n_classes = 10            # mnist classes/labels (0-9)\n",
        "batch_size  = 128         # Size of each batch\n",
        "n_epochs  = 5             # Size of epoch"
      ],
      "execution_count": null,
      "outputs": []
    },
    {
      "cell_type": "code",
      "metadata": {
        "id": "p0FeZl-yEmKs",
        "colab_type": "code",
        "colab": {
          "base_uri": "https://localhost:8080/",
          "height": 598
        },
        "outputId": "02923624-d702-484a-e7fc-7d99447eb3e7"
      },
      "source": [
        "#-------------------------------------------------------\n",
        "# Create model\n",
        "#-------------------------------------------------------\n",
        "\n",
        "x_train = mnist.train.images\n",
        "y_train = mnist.train.labels\n",
        "\n",
        "print(\"Shape of train data : \", x_train.shape)\n",
        "print(\"Reshaping train data ...\")\n",
        "\n",
        "x_train = x_train.reshape(-1,time_steps, n_inputs)\n",
        "print(\"New Shape of train data : \", x_train.shape)\n",
        "\n",
        "model = Sequential()\n",
        "\n",
        "input_layer = Input(shape=(time_steps, n_inputs) , name='Input_Layer')\n",
        "\n",
        "lstm_layer = LSTM( units=n_hiddenunits, \n",
        "                   input_shape=(time_steps, n_inputs), \n",
        "                   activation='tanh', \n",
        "                   recurrent_activation='sigmoid',\n",
        "                   name='LSTM_Layer')(input_layer)\n",
        "\n",
        "output_layer = Dense(n_classes, activation='softmax', name='Output_Layer')(lstm_layer)\n",
        "\n",
        "model = Model(input_layer, output_layer, name=\"Single_LSTM_Layer_Model\")\n",
        "model.compile(loss='categorical_crossentropy', optimizer='adam', metrics=['accuracy'])\n",
        "\n",
        "print(\"Detail Model Information\")\n",
        "model.summary()\n",
        "\n",
        "#-------------------------------------------------------\n",
        "# Train model\n",
        "#-------------------------------------------------------\n",
        "\n",
        "model.fit(x_train, y_train, batch_size=batch_size, epochs=n_epochs, shuffle=True)\n",
        "\n"
      ],
      "execution_count": null,
      "outputs": [
        {
          "output_type": "stream",
          "text": [
            "Shape of train data :  (55000, 784)\n",
            "Reshaping train data ...\n",
            "New Shape of train data :  (55000, 28, 28)\n",
            "WARNING:tensorflow:From /tensorflow-1.15.2/python3.6/tensorflow_core/python/ops/resource_variable_ops.py:1630: calling BaseResourceVariable.__init__ (from tensorflow.python.ops.resource_variable_ops) with constraint is deprecated and will be removed in a future version.\n",
            "Instructions for updating:\n",
            "If using Keras pass *_constraint arguments to layers.\n",
            "Detail Model Information\n",
            "Model: \"Single_LSTM_Layer_Model\"\n",
            "_________________________________________________________________\n",
            "Layer (type)                 Output Shape              Param #   \n",
            "=================================================================\n",
            "Input_Layer (InputLayer)     (None, 28, 28)            0         \n",
            "_________________________________________________________________\n",
            "LSTM_Layer (LSTM)            (None, 128)               80384     \n",
            "_________________________________________________________________\n",
            "Output_Layer (Dense)         (None, 10)                1290      \n",
            "=================================================================\n",
            "Total params: 81,674\n",
            "Trainable params: 81,674\n",
            "Non-trainable params: 0\n",
            "_________________________________________________________________\n",
            "WARNING:tensorflow:From /usr/local/lib/python3.6/dist-packages/keras/backend/tensorflow_backend.py:422: The name tf.global_variables is deprecated. Please use tf.compat.v1.global_variables instead.\n",
            "\n",
            "Epoch 1/5\n",
            "55000/55000 [==============================] - 12s 211us/step - loss: 0.5907 - accuracy: 0.8040\n",
            "Epoch 2/5\n",
            "55000/55000 [==============================] - 10s 179us/step - loss: 0.1675 - accuracy: 0.9486\n",
            "Epoch 3/5\n",
            "55000/55000 [==============================] - 10s 173us/step - loss: 0.1122 - accuracy: 0.9664\n",
            "Epoch 4/5\n",
            "55000/55000 [==============================] - 10s 175us/step - loss: 0.0856 - accuracy: 0.9733\n",
            "Epoch 5/5\n",
            "55000/55000 [==============================] - 10s 175us/step - loss: 0.0683 - accuracy: 0.9788\n"
          ],
          "name": "stdout"
        },
        {
          "output_type": "execute_result",
          "data": {
            "text/plain": [
              "<keras.callbacks.callbacks.History at 0x7f5ae5d99b70>"
            ]
          },
          "metadata": {
            "tags": []
          },
          "execution_count": 4
        }
      ]
    },
    {
      "cell_type": "code",
      "metadata": {
        "id": "b9sZPlgc3m6C",
        "colab_type": "code",
        "colab": {
          "base_uri": "https://localhost:8080/",
          "height": 166
        },
        "outputId": "72e6c9b8-19d8-4efe-fc4b-2aa608e97ca6"
      },
      "source": [
        "#-------------------------------------------------------\n",
        "# Test model\n",
        "#-------------------------------------------------------\n",
        "\n",
        "x_test = mnist.test.images\n",
        "y_test = mnist.test.labels\n",
        "\n",
        "print(\"Shape of train data : \", x_test.shape)\n",
        "print(\"Reshaping train data ...\")\n",
        "x_test = x_test.reshape(-1,time_steps, n_inputs)\n",
        "\n",
        "print(\"New Shape of train data : \", x_test.shape)\n",
        "\n",
        "test_loss, test_accuracy = model.evaluate(x_test, y_test)\n",
        "print(\"------------------------------------\")\n",
        "print(\" TEST RESULTS \")\n",
        "print(\"------------------------------------\")\n",
        "print(\"Test loss        : \", test_loss)\n",
        "print(\"Test accuracy    : \", test_accuracy)\n"
      ],
      "execution_count": null,
      "outputs": [
        {
          "output_type": "stream",
          "text": [
            "Shape of train data :  (10000, 784)\n",
            "Reshaping train data ...\n",
            "New Shape of train data :  (10000, 28, 28)\n",
            "10000/10000 [==============================] - 3s 347us/step\n",
            "------------------------------------\n",
            " TEST RESULTS \n",
            "------------------------------------\n",
            "Test loss        :  0.06877894503846764\n",
            "Test accuracy    :  0.9793999791145325\n"
          ],
          "name": "stdout"
        }
      ]
    },
    {
      "cell_type": "code",
      "metadata": {
        "id": "amy3vpXKCFM6",
        "colab_type": "code",
        "colab": {
          "base_uri": "https://localhost:8080/",
          "height": 281
        },
        "outputId": "4767c245-da62-40d1-c2df-53fcc03ac85d"
      },
      "source": [
        "#-------------------------------------------------------\n",
        "# Get output of LSTM layer\n",
        "#-------------------------------------------------------\n",
        "\n",
        "inter_output_model = Model(model.input, model.get_layer('LSTM_Layer').output)\n",
        "inter_output = inter_output_model.predict(x_test)\n",
        "\n",
        "#-------------------------------------------------------\n",
        "# Run TSNE to get 2d data on LSTM output\n",
        "#-------------------------------------------------------\n",
        "\n",
        "tsne = TSNE(n_components=2, verbose = 1)\n",
        "tsne_results_inter = tsne.fit_transform(inter_output[:50000])\n",
        "\n"
      ],
      "execution_count": null,
      "outputs": [
        {
          "output_type": "stream",
          "text": [
            "[t-SNE] Computing 91 nearest neighbors...\n",
            "[t-SNE] Indexed 10000 samples in 0.126s...\n",
            "[t-SNE] Computed neighbors for 10000 samples in 9.984s...\n",
            "[t-SNE] Computed conditional probabilities for sample 1000 / 10000\n",
            "[t-SNE] Computed conditional probabilities for sample 2000 / 10000\n",
            "[t-SNE] Computed conditional probabilities for sample 3000 / 10000\n",
            "[t-SNE] Computed conditional probabilities for sample 4000 / 10000\n",
            "[t-SNE] Computed conditional probabilities for sample 5000 / 10000\n",
            "[t-SNE] Computed conditional probabilities for sample 6000 / 10000\n",
            "[t-SNE] Computed conditional probabilities for sample 7000 / 10000\n",
            "[t-SNE] Computed conditional probabilities for sample 8000 / 10000\n",
            "[t-SNE] Computed conditional probabilities for sample 9000 / 10000\n",
            "[t-SNE] Computed conditional probabilities for sample 10000 / 10000\n",
            "[t-SNE] Mean sigma: 0.767796\n",
            "[t-SNE] KL divergence after 250 iterations with early exaggeration: 71.884346\n",
            "[t-SNE] KL divergence after 1000 iterations: 1.313714\n"
          ],
          "name": "stdout"
        }
      ]
    },
    {
      "cell_type": "code",
      "metadata": {
        "id": "zl16sarIgPTe",
        "colab_type": "code",
        "colab": {
          "base_uri": "https://localhost:8080/",
          "height": 499
        },
        "outputId": "fe687896-c128-4ac2-e979-e1d3381d9676"
      },
      "source": [
        "\n",
        "#-------------------------------------------------------\n",
        "#Find Kmeas on classes\n",
        "#-------------------------------------------------------\n",
        "\n",
        "kmeans_inter = KMeans(n_clusters=10, random_state=0, init='k-means++').fit(tsne_results_inter)\n",
        "centroid_inter = kmeans_inter.cluster_centers_\n",
        "\n",
        "#-------------------------------------------------------\n",
        "#Categorize test output labels and define colormap\n",
        "#-------------------------------------------------------\n",
        "\n",
        "y_test_cat = np_utils.to_categorical(y_test[:50000], num_classes = 10)\n",
        "color_map = numpy.argmax(y_test_cat, axis=1)\n",
        "\n",
        "#---------------------------------------------------------\n",
        "# PLOTTING\n",
        "#---------------------------------------------------------\n",
        "plt.figure(figsize=(8,8))\n",
        "for cl in range(10):\n",
        "    indices = numpy.where(color_map==cl)\n",
        "    indices = indices[0]\n",
        "    plt.scatter(tsne_results_inter[indices,0], tsne_results_inter[indices, 1], label=cl)\n",
        "plt.plot(centroid_inter[:, 0], centroid_inter[:, 1], 'kx', markersize=20)\n",
        "plt.legend()\n",
        "plt.title('K-means clustering on LSTM output')\n",
        "plt.show()\n"
      ],
      "execution_count": null,
      "outputs": [
        {
          "output_type": "display_data",
          "data": {
            "image/png": "[encoded data removed]",
            "text/plain": [
              "<Figure size 576x576 with 1 Axes>"
            ]
          },
          "metadata": {
            "tags": [],
            "needs_background": "light"
          }
        }
      ]
    }
  ]
}